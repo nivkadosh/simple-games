{
 "cells": [
  {
   "cell_type": "code",
   "execution_count": 179,
   "id": "c5ae523a",
   "metadata": {},
   "outputs": [],
   "source": [
    "from IPython.display import clear_output\n",
    "\n",
    "def display_board(board):\n",
    "        print(board[1]+'|'+board[2]+'|'+board[3])\n",
    "        print(board[4]+'|'+board[5]+'|'+board[6])\n",
    "        print(board[7]+'|'+board[8]+'|'+board[9])"
   ]
  },
  {
   "cell_type": "code",
   "execution_count": 180,
   "id": "a4d5ad45",
   "metadata": {},
   "outputs": [],
   "source": [
    "def player_input(turn):\n",
    "    marker = ''\n",
    "    while marker != 'x' and marker != 'o':\n",
    "        marker = input(\"{}, please choose x or o:\".format(turn))\n",
    "        \n",
    "    if turn=='Player 1' and marker=='x':\n",
    "         return ('x','o')   \n",
    "    elif turn=='Player 1' and marker=='o':\n",
    "         return ('o','x') \n",
    "    elif turn=='Player 2' and marker=='x':\n",
    "         return ('o','x')\n",
    "    else:\n",
    "         return ('x','o') "
   ]
  },
  {
   "cell_type": "code",
   "execution_count": 181,
   "id": "8fd2dc36",
   "metadata": {},
   "outputs": [],
   "source": [
    "def place_marker(board,marker,position):\n",
    "    board[position]= marker"
   ]
  },
  {
   "cell_type": "code",
   "execution_count": 182,
   "id": "ffa008d0",
   "metadata": {},
   "outputs": [],
   "source": [
    "def win_check(board,mark):\n",
    "    return ((board[1]==board[2]==board[3]==mark) or\n",
    "            (board[4]==board[5]==board[6]==mark) or\n",
    "            (board[7]==board[8]==board[9]==mark) or\n",
    "            (board[1]==board[4]==board[7]==mark) or\n",
    "            (board[2]==board[5]==board[8]==mark) or\n",
    "            (board[3]==board[6]==board[9]==mark) or\n",
    "            (board[1]==board[5]==board[9]==mark) or\n",
    "            (board[3]==board[5]==board[7]==mark))"
   ]
  },
  {
   "cell_type": "code",
   "execution_count": 183,
   "id": "9b6395f7",
   "metadata": {},
   "outputs": [],
   "source": [
    "import random\n",
    "\n",
    "def choose_first():\n",
    "    turn= random.randint(0,1)\n",
    "    \n",
    "    if turn==0:\n",
    "        return 'Player 1'\n",
    "    else:\n",
    "        return 'Player 2'"
   ]
  },
  {
   "cell_type": "code",
   "execution_count": 184,
   "id": "8884898d",
   "metadata": {},
   "outputs": [],
   "source": [
    "def space_check(board,position):\n",
    "    return board[position]==' '"
   ]
  },
  {
   "cell_type": "code",
   "execution_count": 185,
   "id": "1b3fa830",
   "metadata": {},
   "outputs": [],
   "source": [
    "def full_board_check(board):\n",
    "    for i in range(1,10):\n",
    "        if space_check(board,i):\n",
    "            return False\n",
    "    return True"
   ]
  },
  {
   "cell_type": "code",
   "execution_count": 186,
   "id": "6e3b6698",
   "metadata": {},
   "outputs": [],
   "source": [
    "def player_choice(board,turn):\n",
    "    position =0\n",
    "    while position not in range(1,10) or not space_check(board,position):\n",
    "        position= int(input('{}, choose a position: (1-9)'.format(turn)))\n",
    "    return position"
   ]
  },
  {
   "cell_type": "code",
   "execution_count": 187,
   "id": "18ab9f7c",
   "metadata": {},
   "outputs": [],
   "source": [
    "def replay():\n",
    "    choice= input(\"play again? enter yes or no\")\n",
    "    return choice== 'yes'"
   ]
  },
  {
   "cell_type": "code",
   "execution_count": null,
   "id": "0bd7a35d",
   "metadata": {},
   "outputs": [
    {
     "name": "stdout",
     "output_type": "stream",
     "text": [
      "welcome to tic tac toe\n",
      "are you ready to play? y or n?y\n",
      "Player 1 will go first\n",
      "Player 1, please choose x or o:x\n",
      " | | \n",
      " | | \n",
      " | | \n",
      "Player 1, choose a position: (1-9)1\n",
      "x| | \n",
      " | | \n",
      " | | \n",
      "Player 2, choose a position: (1-9)2\n",
      "x|o| \n",
      " | | \n",
      " | | \n",
      "Player 1, choose a position: (1-9)4\n",
      "x|o| \n",
      "x| | \n",
      " | | \n",
      "Player 2, choose a position: (1-9)5\n",
      "x|o| \n",
      "x|o| \n",
      " | | \n",
      "Player 1, choose a position: (1-9)3\n",
      "x|o|x\n",
      "x|o| \n",
      " | | \n",
      "Player 2, choose a position: (1-9)6\n",
      "x|o|x\n",
      "x|o|o\n",
      " | | \n",
      "Player 1, choose a position: (1-9)9\n",
      "x|o|x\n",
      "x|o|o\n",
      " | |x\n",
      "Player 2, choose a position: (1-9)7\n",
      "x|o|x\n",
      "x|o|o\n",
      "o| |x\n",
      "Player 1, choose a position: (1-9)8\n",
      "x|o|x\n",
      "x|o|o\n",
      "o|x|x\n",
      "TIE GAME!\n",
      "are you ready to play? y or n?b\n",
      "are you ready to play? y or n?v\n",
      "are you ready to play? y or n?n\n",
      "are you ready to play? y or n?g\n",
      "are you ready to play? y or n?y\n",
      "Player 1 will go first\n"
     ]
    }
   ],
   "source": [
    "print('welcome to tic tac toe')\n",
    "\n",
    "while True:\n",
    "    the_board = [' ']*10\n",
    "    \n",
    "    play_game= input('are you ready to play? y or n?')\n",
    "    if play_game == 'y':\n",
    "        game_on = True\n",
    "        turn=choose_first()\n",
    "        print(turn+ ' will go first')\n",
    "        player1_marker,player2_marker = player_input(turn)\n",
    "    else:\n",
    "        game_on = False\n",
    "\n",
    "\n",
    "\n",
    "    while game_on:\n",
    "        if turn =='Player 1':\n",
    "            display_board(the_board)\n",
    "            position= player_choice(the_board,turn)\n",
    "            place_marker(the_board,player1_marker,position)\n",
    "            if win_check(the_board,player1_marker):\n",
    "                display_board(the_board)\n",
    "                print('PLAYER 1 HAS WON!!')\n",
    "                game_on= False\n",
    "            elif full_board_check(the_board):\n",
    "                display_board(the_board)\n",
    "                print('TIE GAME!')\n",
    "                game_on= False\n",
    "            else:\n",
    "                turn = 'Player 2'\n",
    "        else:\n",
    "            display_board(the_board)\n",
    "            position= player_choice(the_board,turn)\n",
    "            place_marker(the_board,player2_marker,position)\n",
    "            if win_check(the_board,player2_marker):\n",
    "                display_board(the_board)\n",
    "                print('PLAYER 2 HAS WON!!')\n",
    "                game_on= False\n",
    "            elif full_board_check(the_board):\n",
    "                display_board(the_board)\n",
    "                print('TIE GAME!')\n",
    "                game_on= False\n",
    "            else:\n",
    "                turn = 'Player 1'\n",
    "\n",
    "if not replay():\n",
    "    break\n",
    "    "
   ]
  },
  {
   "cell_type": "markdown",
   "id": "cb54de24",
   "metadata": {},
   "source": []
  }
 ],
 "metadata": {
  "kernelspec": {
   "display_name": "Python 3 (ipykernel)",
   "language": "python",
   "name": "python3"
  },
  "language_info": {
   "codemirror_mode": {
    "name": "ipython",
    "version": 3
   },
   "file_extension": ".py",
   "mimetype": "text/x-python",
   "name": "python",
   "nbconvert_exporter": "python",
   "pygments_lexer": "ipython3",
   "version": "3.9.12"
  }
 },
 "nbformat": 4,
 "nbformat_minor": 5
}
